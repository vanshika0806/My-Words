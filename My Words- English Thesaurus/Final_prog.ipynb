{
 "cells": [
  {
   "cell_type": "markdown",
   "metadata": {},
   "source": [
    "# Application 1-- Building an Interactive Dictionary -- Final Solution"
   ]
  },
  {
   "cell_type": "code",
   "execution_count": 1,
   "metadata": {},
   "outputs": [
    {
     "name": "stdout",
     "output_type": "stream",
     "text": [
      "Enter word to be searched : cucco\n",
      "Did you mean cuckoo instead? Enter Y if yes, or N if no : Y\n",
      "A common European bird, Cuculus canorus, of the family Cuculidae, noted for its characteristic call and its brood parasitism.\n"
     ]
    }
   ],
   "source": [
    "import json\n",
    "from difflib import get_close_matches\n",
    "\n",
    "data=json.load(open(\"data.json\"));\n",
    "\n",
    "def translate(word):\n",
    "    word=word.lower();\n",
    "    if word in data:\n",
    "        return data[word]\n",
    "    elif len(get_close_matches(word,data.keys()))>0:\n",
    "        yn=input(\"Did you mean %s instead? Enter Y if yes, or N if no : \" % get_close_matches(word,data.keys())[0])\n",
    "        if yn==\"Y\":\n",
    "            return data[get_close_matches(word,data.keys())[0]]\n",
    "        elif yn==\"N\":\n",
    "            return \"The word doesn't exist. Please double check it.\"\n",
    "        else:\n",
    "            return \"We didn't understand your entry.\"\n",
    "            \n",
    "    else:\n",
    "        return \"The word doesn't exist. Please double check it.\"\n",
    "\n",
    "w=input(\"Enter word to be searched : \")\n",
    "\n",
    "output=translate(w)\n",
    "\n",
    "if type(output)==list:\n",
    "    for item in output:\n",
    "        print(item)\n",
    "else:\n",
    "    print(output)"
   ]
  },
  {
   "cell_type": "code",
   "execution_count": null,
   "metadata": {},
   "outputs": [],
   "source": []
  }
 ],
 "metadata": {
  "kernelspec": {
   "display_name": "Python 3",
   "language": "python",
   "name": "python3"
  },
  "language_info": {
   "codemirror_mode": {
    "name": "ipython",
    "version": 3
   },
   "file_extension": ".py",
   "mimetype": "text/x-python",
   "name": "python",
   "nbconvert_exporter": "python",
   "pygments_lexer": "ipython3",
   "version": "3.5.0"
  }
 },
 "nbformat": 4,
 "nbformat_minor": 2
}
